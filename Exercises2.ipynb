{
 "cells": [
  {
   "metadata": {
    "SqlCellData": {
     "data_source_name": "flight_game@localhost",
     "variableName$1": "df_sql"
    },
    "ExecuteTime": {
     "end_time": "2024-08-26T11:19:38.031906Z",
     "start_time": "2024-08-26T11:19:37.907474700Z"
    }
   },
   "cell_type": "code",
   "source": [
    "%%sql\n",
    "select name, type from airport where iso_country = 'FI'"
   ],
   "id": "ef041cbc1905c5d4",
   "outputs": [
    {
     "data": {
      "text/plain": [
       "                         name           type\n",
       "0         Aavahelukka Airport  small_airport\n",
       "1             Ahmosuo Airport  small_airport\n",
       "2             Alavus Airfield  small_airport\n",
       "3    Jorvin Hospital Heliport       heliport\n",
       "4        Kilpisj?rvi Heliport       heliport\n",
       "..                        ...            ...\n",
       "112   M?ntt? - Sassi Airfield  small_airport\n",
       "113               Taivalkoski  small_airport\n",
       "114          Parkano Airfield  small_airport\n",
       "115            Soini Airfield  small_airport\n",
       "116      Hangasj?rvi Airstrip         closed\n",
       "\n",
       "[117 rows x 2 columns]"
      ],
      "text/html": [
       "<div>\n",
       "<style scoped>\n",
       "    .dataframe tbody tr th:only-of-type {\n",
       "        vertical-align: middle;\n",
       "    }\n",
       "\n",
       "    .dataframe tbody tr th {\n",
       "        vertical-align: top;\n",
       "    }\n",
       "\n",
       "    .dataframe thead th {\n",
       "        text-align: right;\n",
       "    }\n",
       "</style>\n",
       "<table border=\"1\" class=\"dataframe\">\n",
       "  <thead>\n",
       "    <tr style=\"text-align: right;\">\n",
       "      <th></th>\n",
       "      <th>name</th>\n",
       "      <th>type</th>\n",
       "    </tr>\n",
       "  </thead>\n",
       "  <tbody>\n",
       "    <tr>\n",
       "      <th>0</th>\n",
       "      <td>Aavahelukka Airport</td>\n",
       "      <td>small_airport</td>\n",
       "    </tr>\n",
       "    <tr>\n",
       "      <th>1</th>\n",
       "      <td>Ahmosuo Airport</td>\n",
       "      <td>small_airport</td>\n",
       "    </tr>\n",
       "    <tr>\n",
       "      <th>2</th>\n",
       "      <td>Alavus Airfield</td>\n",
       "      <td>small_airport</td>\n",
       "    </tr>\n",
       "    <tr>\n",
       "      <th>3</th>\n",
       "      <td>Jorvin Hospital Heliport</td>\n",
       "      <td>heliport</td>\n",
       "    </tr>\n",
       "    <tr>\n",
       "      <th>4</th>\n",
       "      <td>Kilpisj?rvi Heliport</td>\n",
       "      <td>heliport</td>\n",
       "    </tr>\n",
       "    <tr>\n",
       "      <th>...</th>\n",
       "      <td>...</td>\n",
       "      <td>...</td>\n",
       "    </tr>\n",
       "    <tr>\n",
       "      <th>112</th>\n",
       "      <td>M?ntt? - Sassi Airfield</td>\n",
       "      <td>small_airport</td>\n",
       "    </tr>\n",
       "    <tr>\n",
       "      <th>113</th>\n",
       "      <td>Taivalkoski</td>\n",
       "      <td>small_airport</td>\n",
       "    </tr>\n",
       "    <tr>\n",
       "      <th>114</th>\n",
       "      <td>Parkano Airfield</td>\n",
       "      <td>small_airport</td>\n",
       "    </tr>\n",
       "    <tr>\n",
       "      <th>115</th>\n",
       "      <td>Soini Airfield</td>\n",
       "      <td>small_airport</td>\n",
       "    </tr>\n",
       "    <tr>\n",
       "      <th>116</th>\n",
       "      <td>Hangasj?rvi Airstrip</td>\n",
       "      <td>closed</td>\n",
       "    </tr>\n",
       "  </tbody>\n",
       "</table>\n",
       "<p>117 rows × 2 columns</p>\n",
       "</div>"
      ]
     },
     "execution_count": 4,
     "metadata": {},
     "output_type": "execute_result"
    }
   ],
   "execution_count": 4
  },
  {
   "metadata": {
    "SqlCellData": {
     "data_source_name": "flight_game@localhost",
     "variableName$1": "df_sql1"
    },
    "ExecuteTime": {
     "end_time": "2024-08-26T11:22:12.596219Z",
     "start_time": "2024-08-26T11:22:12.522977500Z"
    }
   },
   "cell_type": "code",
   "source": [
    "%%sql\n",
    "select name from airport where iso_country = 'FI' order by name ASC;"
   ],
   "id": "6d3ce548b1c728c7",
   "outputs": [
    {
     "data": {
      "text/plain": [
       "                                         name\n",
       "0                             ?ht?ri Airfield\n",
       "1                         Aavahelukka Airport\n",
       "2                             Ahmosuo Airport\n",
       "3                             Alavus Airfield\n",
       "4    Central Finland Central Hospital Helipor\n",
       "..                                        ...\n",
       "112                           Varkaus Airport\n",
       "113                       Viitasaari Airfield\n",
       "114                           Vuotso Airfield\n",
       "115                          Wredeby Airfield\n",
       "116                        Ylivieska Airfield\n",
       "\n",
       "[117 rows x 1 columns]"
      ],
      "text/html": [
       "<div>\n",
       "<style scoped>\n",
       "    .dataframe tbody tr th:only-of-type {\n",
       "        vertical-align: middle;\n",
       "    }\n",
       "\n",
       "    .dataframe tbody tr th {\n",
       "        vertical-align: top;\n",
       "    }\n",
       "\n",
       "    .dataframe thead th {\n",
       "        text-align: right;\n",
       "    }\n",
       "</style>\n",
       "<table border=\"1\" class=\"dataframe\">\n",
       "  <thead>\n",
       "    <tr style=\"text-align: right;\">\n",
       "      <th></th>\n",
       "      <th>name</th>\n",
       "    </tr>\n",
       "  </thead>\n",
       "  <tbody>\n",
       "    <tr>\n",
       "      <th>0</th>\n",
       "      <td>?ht?ri Airfield</td>\n",
       "    </tr>\n",
       "    <tr>\n",
       "      <th>1</th>\n",
       "      <td>Aavahelukka Airport</td>\n",
       "    </tr>\n",
       "    <tr>\n",
       "      <th>2</th>\n",
       "      <td>Ahmosuo Airport</td>\n",
       "    </tr>\n",
       "    <tr>\n",
       "      <th>3</th>\n",
       "      <td>Alavus Airfield</td>\n",
       "    </tr>\n",
       "    <tr>\n",
       "      <th>4</th>\n",
       "      <td>Central Finland Central Hospital Helipor</td>\n",
       "    </tr>\n",
       "    <tr>\n",
       "      <th>...</th>\n",
       "      <td>...</td>\n",
       "    </tr>\n",
       "    <tr>\n",
       "      <th>112</th>\n",
       "      <td>Varkaus Airport</td>\n",
       "    </tr>\n",
       "    <tr>\n",
       "      <th>113</th>\n",
       "      <td>Viitasaari Airfield</td>\n",
       "    </tr>\n",
       "    <tr>\n",
       "      <th>114</th>\n",
       "      <td>Vuotso Airfield</td>\n",
       "    </tr>\n",
       "    <tr>\n",
       "      <th>115</th>\n",
       "      <td>Wredeby Airfield</td>\n",
       "    </tr>\n",
       "    <tr>\n",
       "      <th>116</th>\n",
       "      <td>Ylivieska Airfield</td>\n",
       "    </tr>\n",
       "  </tbody>\n",
       "</table>\n",
       "<p>117 rows × 1 columns</p>\n",
       "</div>"
      ]
     },
     "execution_count": 6,
     "metadata": {},
     "output_type": "execute_result"
    }
   ],
   "execution_count": 6
  },
  {
   "metadata": {
    "SqlCellData": {
     "data_source_name": "flight_game@localhost",
     "variableName$1": "df_sql2"
    },
    "ExecuteTime": {
     "end_time": "2024-08-26T11:48:33.009275Z",
     "start_time": "2024-08-26T11:48:32.934168200Z"
    }
   },
   "cell_type": "code",
   "source": [
    "%%sql\n",
    "select name, type from airport where iso_country = 'FI' order by type, name;"
   ],
   "id": "99f4c308c9804f9e",
   "outputs": [
    {
     "data": {
      "text/plain": [
       "                           name           type\n",
       "0            Haapaj?rvi Airport         closed\n",
       "1            Haapam?ki Airfield         closed\n",
       "2          Hangasj?rvi Airstrip         closed\n",
       "3        Helsinki Malmi Airport         closed\n",
       "4    Sonkaj?rvi-Jyrkk? Airfield         closed\n",
       "..                          ...            ...\n",
       "112              Vaala Airfield  small_airport\n",
       "113            Vampula Airfield  small_airport\n",
       "114         Viitasaari Airfield  small_airport\n",
       "115             Vuotso Airfield  small_airport\n",
       "116            Wredeby Airfield  small_airport\n",
       "\n",
       "[117 rows x 2 columns]"
      ],
      "text/html": [
       "<div>\n",
       "<style scoped>\n",
       "    .dataframe tbody tr th:only-of-type {\n",
       "        vertical-align: middle;\n",
       "    }\n",
       "\n",
       "    .dataframe tbody tr th {\n",
       "        vertical-align: top;\n",
       "    }\n",
       "\n",
       "    .dataframe thead th {\n",
       "        text-align: right;\n",
       "    }\n",
       "</style>\n",
       "<table border=\"1\" class=\"dataframe\">\n",
       "  <thead>\n",
       "    <tr style=\"text-align: right;\">\n",
       "      <th></th>\n",
       "      <th>name</th>\n",
       "      <th>type</th>\n",
       "    </tr>\n",
       "  </thead>\n",
       "  <tbody>\n",
       "    <tr>\n",
       "      <th>0</th>\n",
       "      <td>Haapaj?rvi Airport</td>\n",
       "      <td>closed</td>\n",
       "    </tr>\n",
       "    <tr>\n",
       "      <th>1</th>\n",
       "      <td>Haapam?ki Airfield</td>\n",
       "      <td>closed</td>\n",
       "    </tr>\n",
       "    <tr>\n",
       "      <th>2</th>\n",
       "      <td>Hangasj?rvi Airstrip</td>\n",
       "      <td>closed</td>\n",
       "    </tr>\n",
       "    <tr>\n",
       "      <th>3</th>\n",
       "      <td>Helsinki Malmi Airport</td>\n",
       "      <td>closed</td>\n",
       "    </tr>\n",
       "    <tr>\n",
       "      <th>4</th>\n",
       "      <td>Sonkaj?rvi-Jyrkk? Airfield</td>\n",
       "      <td>closed</td>\n",
       "    </tr>\n",
       "    <tr>\n",
       "      <th>...</th>\n",
       "      <td>...</td>\n",
       "      <td>...</td>\n",
       "    </tr>\n",
       "    <tr>\n",
       "      <th>112</th>\n",
       "      <td>Vaala Airfield</td>\n",
       "      <td>small_airport</td>\n",
       "    </tr>\n",
       "    <tr>\n",
       "      <th>113</th>\n",
       "      <td>Vampula Airfield</td>\n",
       "      <td>small_airport</td>\n",
       "    </tr>\n",
       "    <tr>\n",
       "      <th>114</th>\n",
       "      <td>Viitasaari Airfield</td>\n",
       "      <td>small_airport</td>\n",
       "    </tr>\n",
       "    <tr>\n",
       "      <th>115</th>\n",
       "      <td>Vuotso Airfield</td>\n",
       "      <td>small_airport</td>\n",
       "    </tr>\n",
       "    <tr>\n",
       "      <th>116</th>\n",
       "      <td>Wredeby Airfield</td>\n",
       "      <td>small_airport</td>\n",
       "    </tr>\n",
       "  </tbody>\n",
       "</table>\n",
       "<p>117 rows × 2 columns</p>\n",
       "</div>"
      ]
     },
     "execution_count": 8,
     "metadata": {},
     "output_type": "execute_result"
    }
   ],
   "execution_count": 8
  },
  {
   "metadata": {
    "SqlCellData": {
     "data_source_name": "flight_game@localhost",
     "variableName$1": "df_sql3"
    },
    "ExecuteTime": {
     "end_time": "2024-08-26T11:52:48.250568Z",
     "start_time": "2024-08-26T11:52:48.189252Z"
    }
   },
   "cell_type": "code",
   "source": [
    "%%sql\n",
    "select name from country where name LIKE 'F%';"
   ],
   "id": "e9d072ddf54e654f",
   "outputs": [
    {
     "data": {
      "text/plain": [
       "                          name\n",
       "0                      Finland\n",
       "1                         Fiji\n",
       "2             Falkland Islands\n",
       "3                Faroe Islands\n",
       "4                       France\n",
       "5                French Guiana\n",
       "6             French Polynesia\n",
       "7  French Southern Territories"
      ],
      "text/html": [
       "<div>\n",
       "<style scoped>\n",
       "    .dataframe tbody tr th:only-of-type {\n",
       "        vertical-align: middle;\n",
       "    }\n",
       "\n",
       "    .dataframe tbody tr th {\n",
       "        vertical-align: top;\n",
       "    }\n",
       "\n",
       "    .dataframe thead th {\n",
       "        text-align: right;\n",
       "    }\n",
       "</style>\n",
       "<table border=\"1\" class=\"dataframe\">\n",
       "  <thead>\n",
       "    <tr style=\"text-align: right;\">\n",
       "      <th></th>\n",
       "      <th>name</th>\n",
       "    </tr>\n",
       "  </thead>\n",
       "  <tbody>\n",
       "    <tr>\n",
       "      <th>0</th>\n",
       "      <td>Finland</td>\n",
       "    </tr>\n",
       "    <tr>\n",
       "      <th>1</th>\n",
       "      <td>Fiji</td>\n",
       "    </tr>\n",
       "    <tr>\n",
       "      <th>2</th>\n",
       "      <td>Falkland Islands</td>\n",
       "    </tr>\n",
       "    <tr>\n",
       "      <th>3</th>\n",
       "      <td>Faroe Islands</td>\n",
       "    </tr>\n",
       "    <tr>\n",
       "      <th>4</th>\n",
       "      <td>France</td>\n",
       "    </tr>\n",
       "    <tr>\n",
       "      <th>5</th>\n",
       "      <td>French Guiana</td>\n",
       "    </tr>\n",
       "    <tr>\n",
       "      <th>6</th>\n",
       "      <td>French Polynesia</td>\n",
       "    </tr>\n",
       "    <tr>\n",
       "      <th>7</th>\n",
       "      <td>French Southern Territories</td>\n",
       "    </tr>\n",
       "  </tbody>\n",
       "</table>\n",
       "</div>"
      ]
     },
     "execution_count": 14,
     "metadata": {},
     "output_type": "execute_result"
    }
   ],
   "execution_count": 14
  },
  {
   "metadata": {
    "SqlCellData": {
     "data_source_name": "flight_game@localhost",
     "variableName$1": "df_sql4"
    },
    "ExecuteTime": {
     "end_time": "2024-08-26T11:54:19.368980Z",
     "start_time": "2024-08-26T11:54:19.308811700Z"
    }
   },
   "cell_type": "code",
   "source": [
    "%%sql\n",
    "select name from country where name LIKE '%f%';"
   ],
   "id": "722f17e84a661495",
   "outputs": [
    {
     "data": {
      "text/plain": [
       "                           name\n",
       "0                   Afghanistan\n",
       "1                  Burkina Faso\n",
       "2      Central African Republic\n",
       "3                       Finland\n",
       "4                          Fiji\n",
       "5              Falkland Islands\n",
       "6                 Faroe Islands\n",
       "7                        France\n",
       "8                 French Guiana\n",
       "9                   Isle of Man\n",
       "10               Norfolk Island\n",
       "11             French Polynesia\n",
       "12  French Southern Territories\n",
       "13            Wallis and Futuna\n",
       "14                 South Africa"
      ],
      "text/html": [
       "<div>\n",
       "<style scoped>\n",
       "    .dataframe tbody tr th:only-of-type {\n",
       "        vertical-align: middle;\n",
       "    }\n",
       "\n",
       "    .dataframe tbody tr th {\n",
       "        vertical-align: top;\n",
       "    }\n",
       "\n",
       "    .dataframe thead th {\n",
       "        text-align: right;\n",
       "    }\n",
       "</style>\n",
       "<table border=\"1\" class=\"dataframe\">\n",
       "  <thead>\n",
       "    <tr style=\"text-align: right;\">\n",
       "      <th></th>\n",
       "      <th>name</th>\n",
       "    </tr>\n",
       "  </thead>\n",
       "  <tbody>\n",
       "    <tr>\n",
       "      <th>0</th>\n",
       "      <td>Afghanistan</td>\n",
       "    </tr>\n",
       "    <tr>\n",
       "      <th>1</th>\n",
       "      <td>Burkina Faso</td>\n",
       "    </tr>\n",
       "    <tr>\n",
       "      <th>2</th>\n",
       "      <td>Central African Republic</td>\n",
       "    </tr>\n",
       "    <tr>\n",
       "      <th>3</th>\n",
       "      <td>Finland</td>\n",
       "    </tr>\n",
       "    <tr>\n",
       "      <th>4</th>\n",
       "      <td>Fiji</td>\n",
       "    </tr>\n",
       "    <tr>\n",
       "      <th>5</th>\n",
       "      <td>Falkland Islands</td>\n",
       "    </tr>\n",
       "    <tr>\n",
       "      <th>6</th>\n",
       "      <td>Faroe Islands</td>\n",
       "    </tr>\n",
       "    <tr>\n",
       "      <th>7</th>\n",
       "      <td>France</td>\n",
       "    </tr>\n",
       "    <tr>\n",
       "      <th>8</th>\n",
       "      <td>French Guiana</td>\n",
       "    </tr>\n",
       "    <tr>\n",
       "      <th>9</th>\n",
       "      <td>Isle of Man</td>\n",
       "    </tr>\n",
       "    <tr>\n",
       "      <th>10</th>\n",
       "      <td>Norfolk Island</td>\n",
       "    </tr>\n",
       "    <tr>\n",
       "      <th>11</th>\n",
       "      <td>French Polynesia</td>\n",
       "    </tr>\n",
       "    <tr>\n",
       "      <th>12</th>\n",
       "      <td>French Southern Territories</td>\n",
       "    </tr>\n",
       "    <tr>\n",
       "      <th>13</th>\n",
       "      <td>Wallis and Futuna</td>\n",
       "    </tr>\n",
       "    <tr>\n",
       "      <th>14</th>\n",
       "      <td>South Africa</td>\n",
       "    </tr>\n",
       "  </tbody>\n",
       "</table>\n",
       "</div>"
      ]
     },
     "execution_count": 16,
     "metadata": {},
     "output_type": "execute_result"
    }
   ],
   "execution_count": 16
  },
  {
   "metadata": {
    "SqlCellData": {
     "data_source_name": "flight_game@localhost",
     "variableName$1": "df_sql5"
    },
    "ExecuteTime": {
     "end_time": "2024-08-26T11:55:35.487843Z",
     "start_time": "2024-08-26T11:55:35.432210300Z"
    }
   },
   "cell_type": "code",
   "source": [
    "%%sql\n",
    "select location from game where screen_name = 'Vesa';"
   ],
   "id": "e7d326799eab763d",
   "outputs": [
    {
     "data": {
      "text/plain": [
       "  location\n",
       "0     EGCC"
      ],
      "text/html": [
       "<div>\n",
       "<style scoped>\n",
       "    .dataframe tbody tr th:only-of-type {\n",
       "        vertical-align: middle;\n",
       "    }\n",
       "\n",
       "    .dataframe tbody tr th {\n",
       "        vertical-align: top;\n",
       "    }\n",
       "\n",
       "    .dataframe thead th {\n",
       "        text-align: right;\n",
       "    }\n",
       "</style>\n",
       "<table border=\"1\" class=\"dataframe\">\n",
       "  <thead>\n",
       "    <tr style=\"text-align: right;\">\n",
       "      <th></th>\n",
       "      <th>location</th>\n",
       "    </tr>\n",
       "  </thead>\n",
       "  <tbody>\n",
       "    <tr>\n",
       "      <th>0</th>\n",
       "      <td>EGCC</td>\n",
       "    </tr>\n",
       "  </tbody>\n",
       "</table>\n",
       "</div>"
      ]
     },
     "execution_count": 17,
     "metadata": {},
     "output_type": "execute_result"
    }
   ],
   "execution_count": 17
  },
  {
   "metadata": {
    "SqlCellData": {
     "data_source_name": "flight_game@localhost",
     "variableName$1": "df_sql6"
    },
    "ExecuteTime": {
     "end_time": "2024-08-26T11:56:55.639798Z",
     "start_time": "2024-08-26T11:56:55.594029300Z"
    }
   },
   "cell_type": "code",
   "source": [
    "%%sql\n",
    "select co2_consumed from game where screen_name = 'Ilkka';"
   ],
   "id": "9a1fe9a81fae3fe6",
   "outputs": [
    {
     "data": {
      "text/plain": [
       "   co2_consumed\n",
       "0          8000"
      ],
      "text/html": [
       "<div>\n",
       "<style scoped>\n",
       "    .dataframe tbody tr th:only-of-type {\n",
       "        vertical-align: middle;\n",
       "    }\n",
       "\n",
       "    .dataframe tbody tr th {\n",
       "        vertical-align: top;\n",
       "    }\n",
       "\n",
       "    .dataframe thead th {\n",
       "        text-align: right;\n",
       "    }\n",
       "</style>\n",
       "<table border=\"1\" class=\"dataframe\">\n",
       "  <thead>\n",
       "    <tr style=\"text-align: right;\">\n",
       "      <th></th>\n",
       "      <th>co2_consumed</th>\n",
       "    </tr>\n",
       "  </thead>\n",
       "  <tbody>\n",
       "    <tr>\n",
       "      <th>0</th>\n",
       "      <td>8000</td>\n",
       "    </tr>\n",
       "  </tbody>\n",
       "</table>\n",
       "</div>"
      ]
     },
     "execution_count": 19,
     "metadata": {},
     "output_type": "execute_result"
    }
   ],
   "execution_count": 19
  },
  {
   "metadata": {
    "SqlCellData": {
     "data_source_name": "flight_game@localhost",
     "variableName$1": "df_sql7"
    },
    "ExecuteTime": {
     "end_time": "2024-08-26T11:58:26.770045Z",
     "start_time": "2024-08-26T11:58:26.728044600Z"
    }
   },
   "cell_type": "code",
   "source": [
    "%%sql\n",
    "select co2_budget from game limit 1;"
   ],
   "id": "227835db57deb94d",
   "outputs": [
    {
     "data": {
      "text/plain": [
       "   co2_budget\n",
       "0       10000"
      ],
      "text/html": [
       "<div>\n",
       "<style scoped>\n",
       "    .dataframe tbody tr th:only-of-type {\n",
       "        vertical-align: middle;\n",
       "    }\n",
       "\n",
       "    .dataframe tbody tr th {\n",
       "        vertical-align: top;\n",
       "    }\n",
       "\n",
       "    .dataframe thead th {\n",
       "        text-align: right;\n",
       "    }\n",
       "</style>\n",
       "<table border=\"1\" class=\"dataframe\">\n",
       "  <thead>\n",
       "    <tr style=\"text-align: right;\">\n",
       "      <th></th>\n",
       "      <th>co2_budget</th>\n",
       "    </tr>\n",
       "  </thead>\n",
       "  <tbody>\n",
       "    <tr>\n",
       "      <th>0</th>\n",
       "      <td>10000</td>\n",
       "    </tr>\n",
       "  </tbody>\n",
       "</table>\n",
       "</div>"
      ]
     },
     "execution_count": 22,
     "metadata": {},
     "output_type": "execute_result"
    }
   ],
   "execution_count": 22
  },
  {
   "metadata": {
    "SqlCellData": {
     "data_source_name": "flight_game@localhost",
     "variableName$1": "df_sql8"
    },
    "ExecuteTime": {
     "end_time": "2024-08-26T12:03:41.288962Z",
     "start_time": "2024-08-26T12:03:41.212961100Z"
    }
   },
   "cell_type": "code",
   "source": [
    "%%sql\n",
    "select screen_name,co2_budget,co2_consumed, co2_budget-co2_consumed AS co2left from game where screen_name = 'Ilkka';"
   ],
   "id": "4b44a13ea1e04c8d",
   "outputs": [
    {
     "data": {
      "text/plain": [
       "  screen_name  co2_budget  co2_consumed  co2left\n",
       "0       Ilkka       10000          8000     2000"
      ],
      "text/html": [
       "<div>\n",
       "<style scoped>\n",
       "    .dataframe tbody tr th:only-of-type {\n",
       "        vertical-align: middle;\n",
       "    }\n",
       "\n",
       "    .dataframe tbody tr th {\n",
       "        vertical-align: top;\n",
       "    }\n",
       "\n",
       "    .dataframe thead th {\n",
       "        text-align: right;\n",
       "    }\n",
       "</style>\n",
       "<table border=\"1\" class=\"dataframe\">\n",
       "  <thead>\n",
       "    <tr style=\"text-align: right;\">\n",
       "      <th></th>\n",
       "      <th>screen_name</th>\n",
       "      <th>co2_budget</th>\n",
       "      <th>co2_consumed</th>\n",
       "      <th>co2left</th>\n",
       "    </tr>\n",
       "  </thead>\n",
       "  <tbody>\n",
       "    <tr>\n",
       "      <th>0</th>\n",
       "      <td>Ilkka</td>\n",
       "      <td>10000</td>\n",
       "      <td>8000</td>\n",
       "      <td>2000</td>\n",
       "    </tr>\n",
       "  </tbody>\n",
       "</table>\n",
       "</div>"
      ]
     },
     "execution_count": 25,
     "metadata": {},
     "output_type": "execute_result"
    }
   ],
   "execution_count": 25
  }
 ],
 "metadata": {
  "kernelspec": {
   "display_name": "Python 3",
   "language": "python",
   "name": "python3"
  },
  "language_info": {
   "codemirror_mode": {
    "name": "ipython",
    "version": 2
   },
   "file_extension": ".py",
   "mimetype": "text/x-python",
   "name": "python",
   "nbconvert_exporter": "python",
   "pygments_lexer": "ipython2",
   "version": "2.7.6"
  }
 },
 "nbformat": 4,
 "nbformat_minor": 5
}
